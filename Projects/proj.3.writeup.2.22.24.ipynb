{
  "cells": [
    {
      "cell_type": "raw",
      "metadata": {},
      "source": [
        "---\n",
        "title: \"Client Report - Project 3: Finding relationships in baseball.\"\n",
        "subtitle: \"Course DS 250\"\n",
        "author: \"Andrew Belz\"\n",
        "format:\n",
        "  html:\n",
        "    self-contained: true\n",
        "    page-layout: full\n",
        "    title-block-banner: true\n",
        "    toc: true\n",
        "    toc-depth: 3\n",
        "    toc-location: body\n",
        "    number-sections: false\n",
        "    html-math-method: katex\n",
        "    code-fold: true\n",
        "    code-summary: \"Show the code\"\n",
        "    code-overflow: wrap\n",
        "    code-copy: hover\n",
        "    code-tools:\n",
        "        source: false\n",
        "        toggle: true\n",
        "        caption: See code\n",
        "execute: \n",
        "  warning: false\n",
        "    \n",
        "---"
      ],
      "id": "446ec8ff"
    },
    {
      "cell_type": "code",
      "metadata": {},
      "source": [
        "#| label: libraries\n",
        "#| include: false\n",
        "import pandas as pd\n",
        "import numpy as np\n",
        "import plotly.express as px\n",
        "import sqlite3"
      ],
      "id": "libraries",
      "execution_count": null,
      "outputs": []
    },
    {
      "cell_type": "code",
      "metadata": {},
      "source": [
        "#establishes file connection\n",
        "con = sqlite3.connect(r'\"C:\\Users\\andre\\OneDrive\\Desktop\\ds250\\data_files\\lahmansbaseballdb.sqlite\"')"
      ],
      "id": "1f2914e1",
      "execution_count": null,
      "outputs": []
    },
    {
      "cell_type": "markdown",
      "metadata": {},
      "source": [
        "## Elevator pitch\n",
        "Below you will find results for the data that was requested. This includes information about players that attended BYU-Idaho, as well as information relating to batting averages for many players with more than one, then more than ten at-bats. You will find a list of career batting averages for players with more than 100 at-bats. Lastly, you will find an analysis and a comparison of win rates between the Dodgers and the Giants.\n",
        "\n",
        "## Question|Task 1\n",
        "\n",
        "__Write an SQL query to create a new dataframe about baseball players who attended BYU-Idaho. The new table should contain five columns: playerID, schoolID, salary, and the yearID/teamID associated with each salary. Order the table by salary (highest to lowest) and print out the table in your report.__\n",
        "\n",
        "This task requires just an SQL query to retrieve the requested information:"
      ],
      "id": "0e06337e"
    },
    {
      "cell_type": "code",
      "metadata": {},
      "source": [
        "# selects the above columns; all come from salaries except school id\n",
        "#school id comes from collegeplaying; salaries joined on college playing by playerID\n",
        "#where school is byui\n",
        "#ordered by salary, highest to lowest\n",
        "\n",
        "id_sql = '''\n",
        "SELECT DISTINCT\n",
        "\n",
        "salaries.playerID AS 'Player ID',\n",
        "(nameFirst || ' ' || nameLast) AS 'Player Name',\n",
        "salaries.salary AS Salary, \n",
        "salaries.yearID AS Year, \n",
        "salaries.teamID AS Team,\n",
        "teams.name AS 'Team Name',\n",
        "collegeplaying.schoolID AS 'School ID'\n",
        "\n",
        "FROM \n",
        "salaries \n",
        "JOIN \n",
        "people ON salaries.playerID = people.playerID\n",
        "JOIN \n",
        "collegeplaying ON salaries.playerID = collegeplaying.playerID\n",
        "JOIN \n",
        "teams on teams.teamID = salaries.teamID AND teams.yearID = salaries.yearID\n",
        "\n",
        "\n",
        "WHERE collegeplaying.schoolID = 'idbyuid'\n",
        "\n",
        "ORDER BY salary DESC;\n",
        "\n",
        "'''\n",
        "\n",
        "df = pd.read_sql_query(id_sql, con)\n",
        "format_df = df.copy()\n",
        "format_df['Salary'] = format_df['Salary'].apply(\n",
        "    lambda x: '${:,.0f}'.format(x)\n",
        ")"
      ],
      "id": "1d3104ec",
      "execution_count": null,
      "outputs": []
    },
    {
      "cell_type": "markdown",
      "metadata": {},
      "source": [
        "#### Results"
      ],
      "id": "181feaf4"
    },
    {
      "cell_type": "code",
      "metadata": {},
      "source": [
        "format_df"
      ],
      "id": "7a3614cc",
      "execution_count": null,
      "outputs": []
    },
    {
      "cell_type": "markdown",
      "metadata": {},
      "source": [
        "Displayed above are the required columns, as well as some additional columns with some extra descriptive information.\n",
        "\n",
        "It appears that two professional players have come from BYU-Idaho: Matt Lindstrom, and Garrett Stephenson. Garrett Stephenson mostly played for the Cardinals, and earned $1.025 million in his highest-earning year. Matt Lindstrom mostly played for the Marlins and the White Sox, and earned up to $4 million.\n",
        "\n",
        "## Question|Task 2\n",
        "\n",
        "__This three-part question requires you to calculate batting average (number of hits divided by the number of at-bats)__\n",
        "\n",
        "### Task A\n",
        "- __Write an SQL query that provides playerID, yearID, and batting average for players with at least 1 at bat that year. Sort the table from highest batting average to lowest, and then by playerid alphabetically. Show the top 5 results in your report.__\n",
        "\n",
        "#### Results\n",
        "\n",
        "Displayed below are the expected results for the requested query.\n"
      ],
      "id": "7e6687a5"
    },
    {
      "cell_type": "code",
      "metadata": {},
      "source": [
        "bat_sql = '''\n",
        "SELECT\n",
        "b.playerID AS 'Player ID',\n",
        "(p.nameFirst || ' ' || p.nameLast) AS 'Player Name',\n",
        "yearID AS 'Year ID',\n",
        "H as Hits, AB as 'At-bats',\n",
        "(CAST(H AS FLOAT) / AB) AS 'Batting Average'\n",
        "FROM batting b\n",
        "JOIN people p ON p.playerID = b.playerID\n",
        "WHERE AB >= 1\n",
        "ORDER BY (CAST(H AS FLOAT) / AB) DESC, b.playerID\n",
        "LIMIT 5;\n",
        "'''\n",
        "\n",
        "bat_df = pd.read_sql_query(bat_sql , con)\n",
        "bat_df"
      ],
      "id": "f493435b",
      "execution_count": null,
      "outputs": []
    },
    {
      "cell_type": "markdown",
      "metadata": {},
      "source": [
        "It appears that the top results of this query contain players that have just 1 at-bat and just 1 hit, giving them a perfect batting average.\n",
        "\n",
        "### Task B\n",
        "\n",
        "- __Use the same query as above, but only include players with at least 10 at bats that year. Print the top 5 results.__\n",
        "\n",
        "#### Results\n",
        "\n",
        "Below are the adjusted results.\n"
      ],
      "id": "e4392612"
    },
    {
      "cell_type": "code",
      "metadata": {},
      "source": [
        "bat_sql = '''\n",
        "SELECT \n",
        "b.playerID AS 'Player ID',\n",
        "(p.nameFirst || ' ' || p.nameLast) AS 'Player Name',\n",
        "yearID AS 'Year ID',\n",
        "H as Hits, AB as 'At-bats',\n",
        "(CAST(H AS FLOAT) / AB) AS 'Batting Average'\n",
        "FROM batting b\n",
        "JOIN people p ON p.playerID = b.playerID\n",
        "WHERE AB >= 10\n",
        "ORDER BY (CAST(H AS FLOAT) / AB) DESC, b.playerID\n",
        "LIMIT 5;\n",
        "'''\n",
        "\n",
        "bat_df = pd.read_sql_query(bat_sql , con)\n",
        "bat_df"
      ],
      "id": "19ccb333",
      "execution_count": null,
      "outputs": []
    },
    {
      "cell_type": "markdown",
      "metadata": {},
      "source": [
        "Although these results will be more reflective of the players' actual abilities, the Law of Large Numbers tells us we should be looking for higher numbers of at-bats than 10 to accurately represent the players' abilities.\n",
        "\n",
        "### Task C\n",
        "- __Now calculate the batting average for players over their entire careers (all years combined). Only include players with at least 100 at bats, and print the top 5 results.__\n",
        "\n",
        "#### Results\n",
        "\n",
        "Displayed are the results of the query."
      ],
      "id": "05880ec7"
    },
    {
      "cell_type": "code",
      "metadata": {},
      "source": [
        "career_sql = '''\n",
        "SELECT \n",
        "b.playerID AS 'Player ID',\n",
        "(p.nameFirst || ' ' || p.nameLast) AS 'Player Name',\n",
        "MIN(b.yearID) AS 'Rookie Year',\n",
        "SUM(b.H) AS 'Career Hits',\n",
        "SUM(b.AB) AS 'Career At-Bats',\n",
        "CAST(SUM(b.H) AS FLOAT) / SUM(AB) AS 'Career Batting Average'\n",
        "\n",
        "FROM \n",
        "batting b\n",
        "JOIN\n",
        "people p ON p.playerID = b.playerID\n",
        "\n",
        "WHERE \n",
        "AB >= 100\n",
        "\n",
        "GROUP BY \n",
        "b.playerID\n",
        "\n",
        "ORDER BY \n",
        "'Career Batting Average' DESC\n",
        "LIMIT 5;\n",
        "'''\n",
        "\n",
        "career_df = pd.read_sql_query(career_sql, con)\n",
        "career_df"
      ],
      "id": "63556150",
      "execution_count": null,
      "outputs": []
    },
    {
      "cell_type": "markdown",
      "metadata": {},
      "source": [
        "## Question|Task 3\n",
        "__Pick any two baseball teams and compare them using a metric of your choice (average salary, home runs, number of wins, etc). Write an SQL query to get the data you need, then make a graph using Plotly Express to visualize the comparison. What do you learn?__\n",
        "\n",
        "I decided to compare the age-old rivalry between the Dodgers and the Giants. The point of a baseball game is to win; beyond this goal, not much else really matters more to the average fan. Being a Dodgers fan, I hope that the Dodgers come out on top with a higher win percentage. I decided to only use each team's current name and city, because as a fan of the Los Angeles Dodgers, that is what matters most to me.\n",
        "\n",
        "\n",
        "#### Results"
      ],
      "id": "aeaaa623"
    },
    {
      "cell_type": "code",
      "metadata": {},
      "source": [
        "wins_sql = '''\n",
        "SELECT\n",
        "\n",
        "name AS Name,\n",
        "sum(W) AS 'Total Wins',\n",
        "sum(G) AS 'Total Games',\n",
        "(CAST(sum(W) AS FLOAT) / sum(G)) AS 'Win Percentage'\n",
        "\n",
        "FROM teams\n",
        "\n",
        "WHERE name IN ('Los Angeles Dodgers' , 'San Francisco Giants')\n",
        "\n",
        "GROUP BY name\n",
        "\n",
        "ORDER BY 'Win Percentage';\n",
        "'''\n",
        "\n",
        "wins_df = pd.read_sql_query(wins_sql, con)\n",
        "\n",
        "#applies visual formatting\n",
        "for i in ['Total Wins', 'Total Games']:\n",
        "  wins_df[i] = wins_df[i].astype(str).apply(\n",
        "      lambda x: '{:,}'.format(int(x)))\n",
        "\n",
        "fig = px.histogram(\n",
        "  wins_df,\n",
        "  x = 'Name',\n",
        "  y = 'Win Percentage',\n",
        "  color = {'Los Angeles Dodgers': 'blue' , 'San Francisco Giants': 'red'},\n",
        "  labels = {'Name': 'Team' , 'Win Percentage': 'Win Percentage'},\n",
        "  title = 'Win Percentage By Team'\n",
        ").update_layout(\n",
        "  title_x = 0.5\n",
        ")\n",
        "\n",
        "#applies further formatting\n",
        "wins_df['Win Percentage'] = (wins_df['Win Percentage'] * 100).round(2).astype(str) + '%'\n",
        "\n",
        "fig.show()"
      ],
      "id": "095c42ee",
      "execution_count": null,
      "outputs": []
    },
    {
      "cell_type": "code",
      "metadata": {},
      "source": [
        "wins_df"
      ],
      "id": "d5769e4e",
      "execution_count": null,
      "outputs": []
    },
    {
      "cell_type": "markdown",
      "metadata": {},
      "source": [
        "The current Dodgers have a better win percentage than the current Giants! My day is made."
      ],
      "id": "93a8ef19"
    }
  ],
  "metadata": {
    "kernelspec": {
      "name": "python3",
      "language": "python",
      "display_name": "Python 3 (ipykernel)"
    }
  },
  "nbformat": 4,
  "nbformat_minor": 5
}