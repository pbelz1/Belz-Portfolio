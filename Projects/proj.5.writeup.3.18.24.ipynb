{
  "cells": [
    {
      "cell_type": "raw",
      "metadata": {},
      "source": [
        "---\n",
        "title: \"Client Report - Project 5: The war with Star Wars\"\n",
        "subtitle: \"Course DS 250\"\n",
        "author: \"Andrew Belz\"\n",
        "format:\n",
        "  html:\n",
        "    self-contained: true\n",
        "    page-layout: full\n",
        "    title-block-banner: true\n",
        "    toc: true\n",
        "    toc-depth: 3\n",
        "    toc-location: body\n",
        "    number-sections: false\n",
        "    html-math-method: katex\n",
        "    code-fold: true\n",
        "    code-summary: \"Show the code\"\n",
        "    code-overflow: wrap\n",
        "    code-copy: hover\n",
        "    code-tools:\n",
        "        source: false\n",
        "        toggle: true\n",
        "        caption: See code\n",
        "execute: \n",
        "  warning: false\n",
        "    \n",
        "---"
      ],
      "id": "5e9e8b27"
    },
    {
      "cell_type": "code",
      "metadata": {},
      "source": [
        "#| label: libraries\n",
        "#| include: false\n",
        "\n",
        "import pandas as pd\n",
        "#sets displayed rows\n",
        "pd.set_option('display.max_columns', 200)\n",
        "\n",
        "import numpy as np\n",
        "import plotly.express as px\n",
        "\n",
        "#sklearn\n",
        "#plit data\n",
        "from sklearn.model_selection import train_test_split\n",
        "\n",
        "#metrics\n",
        "from sklearn import metrics\n",
        "\n",
        "#parameter search\n",
        "from sklearn.model_selection import RandomizedSearchCV\n",
        "\n",
        "from scipy.stats import randint \n",
        "#used for hyperparameter random distribution\n",
        "\n",
        "from sklearn.ensemble import RandomForestClassifier"
      ],
      "id": "libraries",
      "execution_count": null,
      "outputs": []
    },
    {
      "cell_type": "markdown",
      "metadata": {},
      "source": [
        "## Elevator pitch\n",
        "I cleaned up the column names of the data set to allow for use in pandas. I manipulated and formatted the data to allow for use with a machine learning model, which included assigning integer values and one-hot-encoding other categorical variables. I established a target variable and features. I recreated charts from the article to verify a relationship between the article's analysis and the data in GitHub. Then I trained and tested a model to predict whether a person's household made over $50k a year or not based on the data provided. __The model yielded about 58.57% accuracy.__\n"
      ],
      "id": "76a06f68"
    },
    {
      "cell_type": "code",
      "metadata": {},
      "source": [
        "#| label: project data\n",
        "#| code-summary: Read and format project data\n",
        "# Include and execute your code here\n",
        "df = pd.read_csv(r'C:\\Users\\andre\\Desktop\\ds250\\data_files\\starwars_edited.csv')\n",
        "\n",
        "#drops first row with descriptions of the columns from original data set\n",
        "df = df.drop(index = 0)"
      ],
      "id": "project-data",
      "execution_count": null,
      "outputs": []
    },
    {
      "cell_type": "markdown",
      "metadata": {},
      "source": [
        "## Question|Task 1\n",
        "\n",
        "__Shorten the column names and clean them up for easier use with pandas. Provide a table or list that exemplifies how you fixed the names.__\n",
        "\n",
        "Unedited, pandas couldn't even read the column headings. This is how the column headings read originally:\n"
      ],
      "id": "4e250a1c"
    },
    {
      "cell_type": "code",
      "metadata": {},
      "source": [
        "with open(r'C:\\Users\\andre\\Desktop\\ds250\\data_files\\starwars.csv') as starwars:\n",
        "  txt = starwars.read()\n",
        "txt = txt.split('\\n')\n",
        "\n",
        "txt[0]\n"
      ],
      "id": "f863573a",
      "execution_count": null,
      "outputs": []
    },
    {
      "cell_type": "markdown",
      "metadata": {},
      "source": [
        "There are many untitled columns, and many of the column names are far too long.\n",
        "\n",
        "I rewrote the CSV file so that the names were shorter, and every column had a proper heading. This is how the new headings appear:\n"
      ],
      "id": "bc16183a"
    },
    {
      "cell_type": "code",
      "metadata": {},
      "source": [
        "df.columns"
      ],
      "id": "ec82714f",
      "execution_count": null,
      "outputs": []
    },
    {
      "cell_type": "markdown",
      "metadata": {},
      "source": [
        "These headings should be a little bit more explicit and consistent, and they are in a form that pandas can read.\n",
        "\n",
        "## Question|Task 2\n",
        "\n",
        "- __Clean and format the data so that it can be used in a machine learning model. As you format the data, you should complete each item listed below. In your final report provide example(s) of the reformatted data with a short description of the changes made.__\n",
        "- __a. Filter the dataset to respondents that have seen at least one film.__\n",
        "- __b. Create a new column that converts the age ranges to a single number. Drop the age range categorical column.__\n",
        "- __c. Create a new column that converts the education groupings to a single number. Drop the school categorical column__\n",
        "- __d. Create a new column that converts the income ranges to a single number. Drop the income range categorical column.__\n",
        "- __e. Create your target (also known as “y” or “label”) column based on the new income range column.__\n",
        "- __f. One-hot encode all remaining categorical columns.__\n",
        "\n",
        "\n",
        "### Step A\n",
        "\n",
        "- __a. Filter the dataset to respondents that have seen at least one film.__\n"
      ],
      "id": "afd9b3a8"
    },
    {
      "cell_type": "code",
      "metadata": {},
      "source": [
        "#drops na columns for haven't seen any movies\n",
        "df = df.loc[~df[df.columns[3:9]].isna().all(axis=1)]\n",
        "\n",
        "df.head(5)"
      ],
      "id": "512def60",
      "execution_count": null,
      "outputs": []
    },
    {
      "cell_type": "markdown",
      "metadata": {},
      "source": [
        "This chunk filters the data to only include respondents confirmed that they had seen one film. \n",
        "\n",
        "### Step B\n",
        "\n",
        "- __b. Create a new column that converts the age ranges to a single number. Drop the age range categorical column.__\n"
      ],
      "id": "93b10694"
    },
    {
      "cell_type": "code",
      "metadata": {},
      "source": [
        "#new column for age ranges\n",
        "\n",
        "#looks at possible age values\n",
        "df['age'].unique()\n",
        "\n",
        "#new method for replacing ages\n",
        "new_ages = {\n",
        "  '18-29': 0,\n",
        "  '30-44': 1,\n",
        "  '45-60': 2,\n",
        "  '> 60': 3\n",
        "}\n",
        "\n",
        "#makes changes\n",
        "df['age'] = df['age'].replace(new_ages)\n",
        "\n",
        "print('Unique values: ', df['age'].unique())\n",
        "df['age'].head(5)"
      ],
      "id": "f44fc588",
      "execution_count": null,
      "outputs": []
    },
    {
      "cell_type": "markdown",
      "metadata": {},
      "source": [
        "This code chunk sets each age range to be integer values. With 4 different categories, I used digits 0-3, assigning them incrementally according to chronological order of the ranges. For example, the youngest age range was given a value of 0, while the oldest age range was given a value of 3. It's important to note that I decided not to scale these according to the data itself because the model I decided to go with in the end, `RandomForestClassifier`, doesn't require scaling.\n",
        "\n",
        "### Step C\n",
        "\n",
        "- __c. Create a new column that converts the education groupings to a single number. Drop the school categorical column__\n"
      ],
      "id": "1a9ce0c6"
    },
    {
      "cell_type": "code",
      "metadata": {},
      "source": [
        "#looks at unique education values\n",
        "df['education'].unique()\n",
        "\n",
        "#dict of changes\n",
        "new_ed = {\n",
        "  'Less than high school degree': 0,\n",
        "  'High school degree': 1,\n",
        "  'Some college or Associate degree': 2,\n",
        "  'Bachelor degree': 3,\n",
        "  'Graduate degree': 4\n",
        "}\n",
        "\n",
        "#apply changes\n",
        "df['education'] = df['education'].replace(new_ed)\n",
        "\n",
        "print('Unique values: ', df['education'].unique())\n",
        "df['education'].head(5)"
      ],
      "id": "c821cc76",
      "execution_count": null,
      "outputs": []
    },
    {
      "cell_type": "markdown",
      "metadata": {},
      "source": [
        "This code chunk assigns integer values for the unique possible values in the `'education'` column. With 5 unique values, integers 0-4 were used. Values were assigned incrementally respective to the level of education. For example, 'less than high school degree' was given a value of 0, while 'Graduate degree' was given a value of 4.\n",
        "\n",
        "### Step D\n",
        "\n",
        "- __d. Create a new column that converts the income ranges to a single number. Drop the income range categorical column.__\n"
      ],
      "id": "ef5b4974"
    },
    {
      "cell_type": "code",
      "metadata": {},
      "source": [
        "#looks at values in column\n",
        "df['household_income'].unique()\n",
        "\n",
        "#dict method for changes\n",
        "new_inc = {\n",
        "  '$0 - $24,999': 0,\n",
        "  '$25,000 - $49,999': 1,\n",
        "  '$50,000 - $99,999': 2,\n",
        "  '$100,000 - $149,999': 3,\n",
        "  '$150,000+': 4\n",
        "}\n",
        "\n",
        "#applies change\n",
        "df['household_income'] = df['household_income'].replace(new_inc)\n",
        "\n",
        "print('Unique values: ' , df['household_income'].unique())\n",
        "df['household_income'].head(5)"
      ],
      "id": "ecf55349",
      "execution_count": null,
      "outputs": []
    },
    {
      "cell_type": "markdown",
      "metadata": {},
      "source": [
        "With 5 different income ranges, I assigned integer values 0-4 to the ranges with respect to their magnitudes, as above with the previous two columns.\n",
        "\n",
        "### Step E\n",
        "\n",
        "- __e. Create your target (also known as “y” or “label”) column based on the new income range column.__\n",
        "\n",
        "The target should indicate whether the recorded person makes over $50k a year or not. Thus, I will use the `'household_income'` column to create the target.\n"
      ],
      "id": "36082d65"
    },
    {
      "cell_type": "code",
      "metadata": {},
      "source": [
        "# 1 is yes, 0 is no\n",
        "\n",
        "df['over50k'] = np.where(\n",
        "  df['household_income'] > 1,\n",
        "  1,\n",
        "  0\n",
        ")\n",
        "\n",
        "df['over50k'].head(5)"
      ],
      "id": "b502c69e",
      "execution_count": null,
      "outputs": []
    },
    {
      "cell_type": "markdown",
      "metadata": {},
      "source": [
        "Records where the household_income was over $50K were assigned a value of 1 to indicate True, and records where the household_income was under $50k were assigned a value of 0, to indicate False.\n",
        "\n",
        "### Step F\n",
        "\n",
        "- __f. One-hot encode all remaining categorical columns.__\n",
        "\n",
        "The method I chose for this task was to use `pd.get_dummies()`. "
      ],
      "id": "85ed2b4f"
    },
    {
      "cell_type": "code",
      "metadata": {},
      "source": [
        "#creates features\n",
        "features = df.drop([\n",
        "  'seen_any', #only yes in this filtered df, irrelevant\n",
        "  'respondent_id',\n",
        "  'over50k',\n",
        "  'household_income'\n",
        "], axis = 1)\n",
        "\n",
        "#creates target\n",
        "target = df['over50k']\n",
        "\n",
        "# properly associates positive and negative responses for making better sense of encoded column names\n",
        "for i in features.columns[1:7]:\n",
        "  features[i] = np.where(features[i].isna() , 'no' , 'yes')\n",
        "\n",
        "# columns to one-hot encode\n",
        "enc_data = [\n",
        "'fan',\n",
        "'seen_ep1', \n",
        "'seen_ep2', \n",
        "'seen_ep3', \n",
        "'seen_ep4', \n",
        "'seen_ep5', \n",
        "'seen_ep6', \n",
        "'rank_hansolo', \n",
        "'rank_lukeskywalker', \n",
        "'rank_leiaorgana', \n",
        "'rank_anakinskywalker', \n",
        "'rank_obiwankenobi', \n",
        "'rank_emperorpalpatine', \n",
        "'rank_darthvader',\n",
        "'rank_landocalrissian', \n",
        "'rank_bobafett', \n",
        "'rank_c3po', \n",
        "'rank_r2d2',\n",
        "'rank_jarjarbinks', \n",
        "'rank_padmeamidala', \n",
        "'rank_yoda', \n",
        "'who_shot_first',\n",
        "'know_expanded_universe', \n",
        "'fan_of_expanded_universe', \n",
        "'star_trek_fan',\n",
        "'gender',\n",
        "'location_census_region'\n",
        "]\n",
        "\n",
        "# gets dummies for features; target doesn't need to be encoded\n",
        "onehot_feat = pd.get_dummies(features , columns = enc_data, prefix = enc_data)\n",
        "\n",
        "#renames columns\n",
        "onehot_feat.columns = onehot_feat.columns.str.replace(' ' , '_')\n",
        "\n",
        "#Changes from boolean to int\n",
        "for col in onehot_feat.columns[9:]:\n",
        "  onehot_feat[col] = onehot_feat[col].astype(int)\n",
        "\n",
        "for col in onehot_feat.columns:\n",
        "  onehot_feat[col] = onehot_feat[col].astype(float)\n",
        "  mean = onehot_feat[col].mean()\n",
        "  #print(col , mean)\n",
        "  onehot_feat[col] = onehot_feat[col].fillna(mean)\n",
        "\n",
        "target = target.astype(float)\n",
        "\n",
        "#splits data for testing\n",
        "train_input, test_input, train_targets, test_targets = train_test_split(onehot_feat, target, test_size=.3, random_state = 42)\n",
        "\n",
        "onehot_feat.head(5)"
      ],
      "id": "e97ee69a",
      "execution_count": null,
      "outputs": []
    },
    {
      "cell_type": "markdown",
      "metadata": {},
      "source": [
        "First, I split the data into features and the target. Then I made changes to the values of features to allow for easier encoding, and I made a list of columns that I wanted to get dummies for. I applied the `get_dummies()` function, then cleaned up the new column names for the algorithm. To also allow the algorithm to read the data better, I changed the boolean values to 1 and 0, and I filled null values with the mean of the respective columns. Finally, I chose this moment to split the data into training and testing sets. A ratio of 70/30 training to testing data yielded the best results.\n",
        "\n",
        "## Question|Task 3\n",
        "\n",
        "__Validate that the data provided on GitHub lines up with the article by recreating 2 of the visuals from the article.__\n",
        "\n",
        "The first chart I chose to recreate was the first chart in the article that describes the proportion of respondents that have seen each film out of the respondents that saw any film.\n"
      ],
      "id": "e2261aff"
    },
    {
      "cell_type": "code",
      "metadata": {},
      "source": [
        "seen_eps = features[features.columns[1:7]]\n",
        "\n",
        "seen_eps = seen_eps.replace('yes' , 1)\n",
        "seen_eps = seen_eps.replace('no' , 0)\n",
        "\n",
        "\n",
        "fig = px.bar(\n",
        "  y = seen_eps.columns[::-1],\n",
        "  x = (seen_eps.mean()*100).round()[::-1],\n",
        "  orientation = 'h',\n",
        "  title = 'Which Star Wars Movies Have You Seen?'\n",
        ").update_layout(\n",
        "  title_x = 0.5,\n",
        "  yaxis_title = 'Episodes Seen',\n",
        "  xaxis_title = 'Percent that have Seen Episode'\n",
        ")\n",
        "\n",
        "fig.show()"
      ],
      "id": "88336376",
      "execution_count": null,
      "outputs": []
    },
    {
      "cell_type": "markdown",
      "metadata": {},
      "source": [
        "The proportions and values for each episode correspond to those found in the chart on the website. The second chart I decided to recreate was the last one titled \"Who Shot First?\"\n"
      ],
      "id": "64fb218b"
    },
    {
      "cell_type": "code",
      "metadata": {},
      "source": [
        "whoshot = features['who_shot_first']\n",
        "\n",
        "counts = (whoshot.value_counts() / len(whoshot) *100).reset_index()\n",
        "\n",
        "fig2 = px.histogram(\n",
        "  y = [counts['who_shot_first'][1] , counts['who_shot_first'][2] , counts['who_shot_first'][0]],\n",
        "  x = [counts['count'][1] , counts['count'][2] , counts['count'][0]],\n",
        "  orientation = 'h',\n",
        "  title = 'Who Shot First?'\n",
        ").update_layout(\n",
        "  title_x = 0.5,\n",
        "  xaxis_title = 'Percent of Votes',\n",
        "  yaxis_title = 'Character'\n",
        ")\n",
        "\n",
        "fig2.show()"
      ],
      "id": "ba010e58",
      "execution_count": null,
      "outputs": []
    },
    {
      "cell_type": "markdown",
      "metadata": {},
      "source": [
        "This chart's proportions and values also match those found in the chart in the analysis on the website. Given that these two charts match up very well to the charts found on the website, I conclude that the data provided on GitHub corresponds to the analysis provided in the article.\n",
        "\n",
        "## Question|Task 4\n",
        "\n",
        "__Build a machine learning model that predicts whether a person makes more than $50k. Describe your model and report the accuracy.__\n",
        "\n",
        "I tried several different models, and none performed very well. I was unable to train a model to perform at a higher accuracy than about 58.57%. Objectively, this isn't very good. In theory, a pure guess would yield around 50% accuracy. Ultimately, I decided to go with `RandomForestClassifier`, because that model had the highest accuracy of all the models I tried. \n",
        "\n",
        "### RandomSearch for RandomForestClassifier\n",
        "\n",
        "First I hypertuned the parameters using `RandomSearchCV`, which randomly searched for the optimal parameters within the parameter grid that I passed to it.\n"
      ],
      "id": "8d553d76"
    },
    {
      "cell_type": "code",
      "metadata": {},
      "source": [
        "#| eval: false\n",
        "#| echo: true\n",
        "#performs random search\n",
        "\n",
        "param_grid = {\n",
        "    'n_estimators': randint(100, 1000, 100),\n",
        "    'criterion': ['gini', 'entropy'],\n",
        "    'max_depth': randint(3, 20, 100), \n",
        "    'min_samples_split': randint(2, 20, 100),\n",
        "    'min_samples_leaf': randint(1, 20, 100), \n",
        "    'max_features': ['auto', 'sqrt', 'log2'], \n",
        "    'bootstrap': [True, False],\n",
        "    'random_state': [42]\n",
        "}\n",
        "\n",
        "# Create the RandomizedSearchCV\n",
        "random_search = RandomizedSearchCV(\n",
        "    RandomForestClassifier(),\n",
        "    param_distributions=param_grid,\n",
        "    n_iter=50,\n",
        "    scoring='accuracy',\n",
        "    n_jobs=-1,\n",
        "    cv=5,\n",
        "    verbose=1,\n",
        "    random_state=42\n",
        ")\n",
        "\n",
        "random_search.fit(train_input, train_targets)\n",
        "\n",
        "best_params = random_search.best_params_\n",
        "\n",
        "print('Best Parameters: ', best_params)"
      ],
      "id": "46ec792b",
      "execution_count": null,
      "outputs": []
    },
    {
      "cell_type": "markdown",
      "metadata": {},
      "source": [
        "### Classifier Train and Predict\n",
        "\n",
        "Using these hyperparameters, I went ahead and trained the model on the training input and the training targets. Then, I had the model predict the testing targets based on the testing data. I measured the model's performance using several different metrics.\n"
      ],
      "id": "08d8d4a4"
    },
    {
      "cell_type": "code",
      "metadata": {},
      "source": [
        "classifier = None #resets variable to rerun chunk\n",
        "\n",
        "classifier = RandomForestClassifier(\n",
        "  bootstrap = False,\n",
        "  criterion = 'gini',\n",
        "  max_depth = 111,\n",
        "  max_features = 'sqrt',\n",
        "  min_samples_leaf = 105,\n",
        "  min_samples_split = 102,\n",
        "  n_estimators = 1018,\n",
        "  random_state = 42\n",
        ")\n",
        "\n",
        "classifier.fit(train_input , train_targets)\n",
        "\n",
        "#predict\n",
        "targets_predicted = classifier.predict(test_input)\n",
        "\n",
        "np1 = test_targets.to_numpy()\n",
        "np2 = targets_predicted\n",
        "\n",
        "#Calculates Evaluation Metrics\n",
        "acc = round(metrics.accuracy_score(np1 , np2) * 100, 2)\n",
        "prec = round(metrics.precision_score(np1, np2) * 100, 2)\n",
        "rec = round(metrics.recall_score(np1, np2) * 100, 2)\n",
        "f1 = round(metrics.f1_score(np1, np2) * 100, 2)\n",
        "\n",
        "print('Accuracy:' , str(acc) + '%')\n",
        "print('Precision:' , str(prec) + '%')\n",
        "print('Recall:' , str(rec) + '%')\n",
        "print('f1:' , str(f1) + '%')"
      ],
      "id": "75432c3f",
      "execution_count": null,
      "outputs": []
    },
    {
      "cell_type": "markdown",
      "metadata": {},
      "source": [
        "### Conclusion\n",
        "\n",
        "The model performs at about 58.57% accuracy, with an f1 score of about 66.67%. In my opinion, this is not very good, but I do think it is understandable. There isn't a very strong relationship between Star Wars opinions and income. Below is a correlation matrix showing the correlation between different variables in the data and the target column `'over50k'`.\n"
      ],
      "id": "eaa9c62a"
    },
    {
      "cell_type": "code",
      "metadata": {},
      "source": [
        "cordat = onehot_feat\n",
        "\n",
        "cordat['over50k'] = df['over50k']\n",
        "\n",
        "correlation_matrix = cordat.corr()\n",
        "# Get absolute values of correlation matrix\n",
        "abs_corr = correlation_matrix.abs()\n",
        "\n",
        "# Get the indices of the top n correlation values\n",
        "n = 11  # Adjust as needed\n",
        "top_corr_cols = abs_corr.nlargest(n, 'over50k')['over50k'].index\n",
        "\n",
        "# Print top n correlation values\n",
        "print(correlation_matrix.loc[top_corr_cols[1:], 'over50k'])"
      ],
      "id": "8b995242",
      "execution_count": null,
      "outputs": []
    },
    {
      "cell_type": "markdown",
      "metadata": {},
      "source": [
        "No variable seems to have a higher absolute correlation coefficient value than education, which is about 0.16. The majority of variables have significantly lower correlation. This indicates the data is very weakly correlated to the target, bordering on not correlated at all. This brings into question how relevant this data realistically is for predicting household income. In my opinion, it isn't very useful for that purpose. One thing to try for the future is to avoid one-hot-encoding for use with tree algorithms, per the advice of the article provided in the readings for this project about `pd.get_dummies()`."
      ],
      "id": "e25e5ccb"
    }
  ],
  "metadata": {
    "kernelspec": {
      "name": "python3",
      "language": "python",
      "display_name": "Python 3 (ipykernel)"
    }
  },
  "nbformat": 4,
  "nbformat_minor": 5
}