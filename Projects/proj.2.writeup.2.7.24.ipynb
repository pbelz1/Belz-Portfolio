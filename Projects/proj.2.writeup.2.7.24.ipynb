{
  "cells": [
    {
      "cell_type": "raw",
      "metadata": {},
      "source": [
        "---\n",
        "title: \"Client Report - Project 2: Late flights and missing data (JSON files)\"\n",
        "subtitle: \"Course DS 250\"\n",
        "author: \"Andrew Belz\"\n",
        "format:\n",
        "  html:\n",
        "    self-contained: true\n",
        "    page-layout: full\n",
        "    title-block-banner: true\n",
        "    toc: true\n",
        "    toc-depth: 3\n",
        "    toc-location: body\n",
        "    number-sections: false\n",
        "    html-math-method: katex\n",
        "    code-fold: true\n",
        "    code-summary: \"Show the code\"\n",
        "    code-overflow: wrap\n",
        "    code-copy: hover\n",
        "    code-tools:\n",
        "        source: false\n",
        "        toggle: true\n",
        "        caption: See code\n",
        "execute: \n",
        "  warning: false\n",
        "    \n",
        "---"
      ],
      "id": "9c7abff9"
    },
    {
      "cell_type": "code",
      "metadata": {},
      "source": [
        "#| label: libraries\n",
        "#| include: false\n",
        "import pandas as pd\n",
        "import numpy as np\n",
        "import plotly.express as px"
      ],
      "id": "libraries",
      "execution_count": null,
      "outputs": []
    },
    {
      "cell_type": "markdown",
      "metadata": {},
      "source": [
        "## Elevator pitch\n",
        "I transformed the data to make it more useable. I analyzed the delays and determined that San Francisco has the worst (\"highest\") proportion of delays. The best month to fly to avoid delays is September, although November is a close second. I added a column to the dataset that calculates the total number of weather delays. I performed analysis on the new weather column and determined that Atlanta has the worst weather delays, with Chicago being a close second.\n"
      ],
      "id": "5d275f7b"
    },
    {
      "cell_type": "code",
      "metadata": {},
      "source": [
        "#this is my file path; I am not sure how the final html document works with reading files, but if I need to resubmit with different file path, please let me know.\n",
        "\n",
        "df = pd.read_json(r'C:\\Users\\andre\\Desktop\\ds250\\data_files\\flights_missing.json')"
      ],
      "id": "4f298471",
      "execution_count": null,
      "outputs": []
    },
    {
      "cell_type": "markdown",
      "metadata": {},
      "source": [
        "## Question|Task 1\n",
        "\n",
        "__Fix all of the varied missing data types in the data to be consistent (all missing values should be displayed as “NaN”). In your report include one record example (one row) from your new data, in the raw JSON format. Your example should display the “NaN” for at least one missing value.__\n",
        "\n",
        "There are a number of steps to this process, because there are a number of things wrong with the dataset. Here are some things that I changed or fixed:\n",
        "\n",
        "- Normalized datatypes to be consistent\n",
        "- Filled in missing data with NaN for easier manipulation and analysis\n",
        "- Filled in missing information where I could (i.e. missing airport codes)\n",
        "- Fixed typos to prevent future bugs\n",
        "\n",
        "Here is an example row of what the raw `.json` file looks like before my fix: \n"
      ],
      "id": "c76bb568"
    },
    {
      "cell_type": "code",
      "metadata": {},
      "source": [
        "row_dict = df.iloc[0].to_dict()\n",
        "row_dict #displays how row at index 0 will look in raw .json format"
      ],
      "id": "3c3d40d6",
      "execution_count": null,
      "outputs": []
    },
    {
      "cell_type": "markdown",
      "metadata": {},
      "source": [
        "### Step 1\n",
        "The first fix I made was matching each airport code with an airport name, just for the sake of completeness in this dataset. All of the codes were present, but some of the names were missing (such as in the 3rd row):\n"
      ],
      "id": "b6007fba"
    },
    {
      "cell_type": "code",
      "metadata": {},
      "source": [
        "df.filter(['airport_code', 'airport_name']).head(4)"
      ],
      "id": "9eec09ff",
      "execution_count": null,
      "outputs": []
    },
    {
      "cell_type": "markdown",
      "metadata": {},
      "source": [
        "My fix was to update the `airport_name` column with the name of the airport that corresponds to the given code. Note the changes to line 3:\n"
      ],
      "id": "62cc8e34"
    },
    {
      "cell_type": "code",
      "metadata": {},
      "source": [
        "#Exploration code:\n",
        "'''\n",
        "df['airport_code'].unique()\n",
        "#there are no blank or invalid codes in airport_codes\n",
        "df['airport_name'].unique()\n",
        "#there are blank names\n",
        "'''\n",
        "\n",
        "#gets rid of blank strings, ensures names are in proper places\n",
        "#ensures matching {code: name} values, with no unpaired values\n",
        "names = [name for name in df['airport_name'].unique()]\n",
        "names[2] = names[-1]\n",
        "names.pop()\n",
        "\n",
        "codes = [code for code in df['airport_code'].unique()]\n",
        "\n",
        "\n",
        "#creates dictionary with unique combinations of codes and names\n",
        "# dict(zip(unique codes, unique names))\n",
        "code_name = \\\n",
        "  dict(zip(codes, names))\n",
        "\n",
        "\n",
        "#replaces all airport code values in df with appropriate value\n",
        "#and all names with appropriate names: for some reason\n",
        "df['airport_name'] = df['airport_code'].replace(code_name)\n",
        "\n",
        "df.filter(['airport_code', 'airport_name']).head(4)\n"
      ],
      "id": "26537517",
      "execution_count": null,
      "outputs": []
    },
    {
      "cell_type": "markdown",
      "metadata": {},
      "source": [
        "### Step 2\n",
        "I checked to see if there were any fixes to be made to the `months` column: there were. February was spelled as \"Febuary,\" and I foresaw this causing problems in the future. I fixed the spelling error. There were also some blank values needing to be handled. For the sake of efficiency, I handle those later.\n",
        "\n",
        "Note the mistakes and \"n/a\" values:"
      ],
      "id": "29b354b9"
    },
    {
      "cell_type": "code",
      "metadata": {},
      "source": [
        "#This code chunk helps me to find invalid months\n",
        "\n",
        "months = ['January',\n",
        "          'February',\n",
        "          'March',\n",
        "          'April',\n",
        "          'May',\n",
        "          'June',\n",
        "          'July',\n",
        "          'August', \n",
        "          'September', \n",
        "          'October', \n",
        "          'November', \n",
        "          'December']\n",
        "invalid_months = df['month'][~df['month'].isin(months)]\n",
        "invalid_months.unique()\n",
        "\n",
        "#example of invalid months\n",
        "df.filter(['month']).query('month == \"Febuary\" or month == \"n/a\"')[11:17]"
      ],
      "id": "9fc88a09",
      "execution_count": null,
      "outputs": []
    },
    {
      "cell_type": "markdown",
      "metadata": {},
      "source": [
        "Note the fixes:"
      ],
      "id": "0da69000"
    },
    {
      "cell_type": "code",
      "metadata": {},
      "source": [
        "#fixes months\n",
        "monthfixes = {'Febuary': 'February',\n",
        "              'n/a': np.nan}\n",
        "df['month'] = df['month'].replace(monthfixes)\n",
        "\n",
        "#displays fixed data\n",
        "df.filter(['month']).query('month == \"February\" or month.isnull()')[11:17]\n"
      ],
      "id": "2e789c73",
      "execution_count": null,
      "outputs": []
    },
    {
      "cell_type": "markdown",
      "metadata": {},
      "source": [
        "### Step 3\n",
        "I want to prepare to handle missing values, so I will assign placeholder values to each missing value. This just helps me as I normalize the data. Most notably, it helps me to see which values might be missing.\n"
      ],
      "id": "f7e7f5d3"
    },
    {
      "cell_type": "code",
      "metadata": {},
      "source": [
        "#fills na values with -999 placeholder\n",
        "df = df.fillna(-999)\n",
        "\n",
        "#df.count()"
      ],
      "id": "fb60a36f",
      "execution_count": null,
      "outputs": []
    },
    {
      "cell_type": "markdown",
      "metadata": {},
      "source": [
        "All values are now accounted for.\n",
        "\n",
        "### Step 4\n",
        "The column `num_of_delays_carrier` has an unexpected datatype `object`, so I must find the invalid values. From examining the dataset, I noticed some values contain the `+` character, Which appears to be the issue.\n"
      ],
      "id": "418d9c5f"
    },
    {
      "cell_type": "code",
      "metadata": {},
      "source": [
        "#makes the change by getting rid of the '+', then attempts the type change; allows errors to be raised to detect other anomalies in the column\n",
        "\n",
        "df['num_of_delays_carrier'] = df['num_of_delays_carrier'].str.replace('+', '').astype(np.float64, errors = 'raise')\n",
        "\n",
        "#df.info()"
      ],
      "id": "35329a19",
      "execution_count": null,
      "outputs": []
    },
    {
      "cell_type": "markdown",
      "metadata": {},
      "source": [
        "### Step 5\n",
        "I noticed that some of the columns that hold numeric values were `int64` datatypes, which isn't conducive to `np.nan` values. I decided to change these columns into `float64` datatypes. \n"
      ],
      "id": "c98d4db9"
    },
    {
      "cell_type": "code",
      "metadata": {},
      "source": [
        "for column in df.columns[4:]:\n",
        "    df[column] = df[column].astype(np.float64, errors='raise')\n",
        "\n",
        "#successful\n",
        "#df.info()"
      ],
      "id": "f3ef09e7",
      "execution_count": null,
      "outputs": []
    },
    {
      "cell_type": "markdown",
      "metadata": {},
      "source": [
        "### Step 6\n",
        "The final step involves changing all placeholder values into useable `np.nan` values."
      ],
      "id": "bfc448d2"
    },
    {
      "cell_type": "code",
      "metadata": {},
      "source": [
        "df = df.replace (-999, np.nan)\n",
        "\n",
        "#successful\n",
        "#df.count()"
      ],
      "id": "2ec6eea5",
      "execution_count": null,
      "outputs": []
    },
    {
      "cell_type": "markdown",
      "metadata": {},
      "source": [
        "Here is what the updated `.json` file should look like after my fixes:"
      ],
      "id": "2f8227d8"
    },
    {
      "cell_type": "code",
      "metadata": {},
      "source": [
        "row_dict = df.iloc[0].to_dict()\n",
        "row_dict #displays how row at index 0 will look in raw .json format"
      ],
      "id": "86b9afc9",
      "execution_count": null,
      "outputs": []
    },
    {
      "cell_type": "markdown",
      "metadata": {},
      "source": [
        "Here are some of the checks that I ran to ensure that my transformations were successful."
      ],
      "id": "f1ec484c"
    },
    {
      "cell_type": "code",
      "metadata": {},
      "source": [
        "#Run checks on the dataframe for unexpected values\n",
        "\n",
        "df[~df['airport_code'].isin(codes)] #empty: successful\n",
        "\n",
        "df[~df['airport_name'].isin(names)] #empty: successful\n",
        "\n",
        "df[~df['month'].isin(months) & ~df['month'].isna()] #empty: successful\n",
        "\n",
        "df[~df['year'].isin(range(int(df['year'].min()), int(df['year'].max() + 1))) & df['month'].isna()] #empty:successful"
      ],
      "id": "4ea36c54",
      "execution_count": null,
      "outputs": []
    },
    {
      "cell_type": "markdown",
      "metadata": {},
      "source": [
        "## Question|Task 2\n",
        "\n",
        "__Which airport has the worst delays? Discuss the metric you chose, and why you chose it to determine the “worst” airport. Your answer should include a summary table that lists (for each airport) the total number of flights, total number of delayed flights, proportion of delayed flights, and average delay time in hours.__\n",
        "\n",
        "For determining the \"worst\" airport with the \"worst\" delays, I decided to use the `num_of_delays_total` column. I chose to use the frequency metrics over the duration metrics because I feel that it is more relevant to the average traveler, although it is subjective. If I am walking into an airport, I personally want to know the likelihood that my flight will be delayed more than I want to know how long it will take if my flight is delayed.\n",
        "\n",
        "### Step 1 \n",
        "Here are the requested totals by airport:"
      ],
      "id": "3dc74d74"
    },
    {
      "cell_type": "code",
      "metadata": {},
      "source": [
        "grouped_df = df.groupby('airport_code')[[\n",
        "  'num_of_flights_total',\n",
        "  'num_of_delays_total',\n",
        "  ]].sum().sort_values('num_of_flights_total', ascending = False)\n",
        "\n",
        "#calculates percentage of delays, then turns into string with %\n",
        "grouped_df['proportion_of_delays_percent'] = ((grouped_df['num_of_delays_total'] / grouped_df['num_of_flights_total'])*100).round(3).astype(str) + '%'\n",
        "\n",
        "#gets mean of every code type, then divides minutes by 60 to get hours\n",
        "grouped_df['avg_delay_hours'] = ((df.groupby('airport_code')['minutes_delayed_total'].mean()) / (60)).round(3)\n",
        "\n",
        "grouped_df = grouped_df.reset_index()\n",
        "\n",
        "# Set custom formatting for floating-point numbers: comma-delimited\n",
        "pd.options.display.float_format = None\n",
        "\n",
        "\n",
        "grouped_df"
      ],
      "id": "73fb0ee1",
      "execution_count": null,
      "outputs": []
    },
    {
      "cell_type": "markdown",
      "metadata": {},
      "source": [
        "### Step 2\n",
        "\n",
        "Now to examine the proportions of delays:"
      ],
      "id": "8d57797e"
    },
    {
      "cell_type": "code",
      "metadata": {},
      "source": [
        "grouped_df.filter(['airport_code', 'proportion_of_delays_percent']).sort_values('proportion_of_delays_percent', ascending = False)"
      ],
      "id": "8aa447ba",
      "execution_count": null,
      "outputs": []
    },
    {
      "cell_type": "markdown",
      "metadata": {},
      "source": [
        "### Analysis\n",
        "With just over 26% of flights being delayed at San Francisco airport, by this metric the San Francisco airport would be considered the airport with the worst delays.\n",
        "\n",
        "### Step 3 (Extra Analysis)\n",
        "It interested me to also explore other definitions of the \"worst\" delays. I decided to analyze the amount of delays caused by security issues. Security issues are arguably the worst kind of delay because of the potential threat to personal safety."
      ],
      "id": "41beab54"
    },
    {
      "cell_type": "code",
      "metadata": {},
      "source": [
        "group_df2 = df.groupby('airport_code')[[\n",
        "  'num_of_delays_total',\n",
        "  'num_of_delays_security'\n",
        "]].sum().reset_index().sort_values('num_of_delays_security', ascending = False)\n",
        "\n",
        "group_df2['security_delay_proportion'] = ((group_df2['num_of_delays_security'] / group_df2['num_of_delays_total']\n",
        ")*100).round(2).astype(str) + '%'\n",
        "group_df2.filter(['airport_code', 'security_delay_proportion']).sort_values('security_delay_proportion', ascending = False)"
      ],
      "id": "f16a5dcd",
      "execution_count": null,
      "outputs": []
    },
    {
      "cell_type": "markdown",
      "metadata": {},
      "source": [
        "By this metric, Salt Lake City has the \"worst\" delays.\n",
        "\n",
        "\n",
        "## Question|Task 3\n",
        "\n",
        "__What is the best month to fly if you want to avoid delays of any length?__\n",
        "\n",
        "### Step 1\n",
        "\n",
        "If the total number of delays are grouped by month, we can see how many delays there were per month:"
      ],
      "id": "23fe8464"
    },
    {
      "cell_type": "code",
      "metadata": {},
      "source": [
        "month_df = df.groupby('month')[['num_of_delays_total', 'num_of_flights_total']].sum().reset_index()\n",
        "\n",
        "#formats it as a string, but changes back later to perform operations\n",
        "month_df['percent_delayed'] = ((month_df['num_of_delays_total'] / month_df['num_of_flights_total']) * 100).round(2).astype(str) + '%'\n",
        "\n",
        "month_df = month_df.dropna(subset=['month'])\n",
        "\n",
        "month_df"
      ],
      "id": "1e60abf9",
      "execution_count": null,
      "outputs": []
    },
    {
      "cell_type": "markdown",
      "metadata": {},
      "source": [
        "### Analysis\n"
      ],
      "id": "2748c5ad"
    },
    {
      "cell_type": "code",
      "metadata": {},
      "source": [
        "#changes column back to float\n",
        "month_df['percent_delayed'] = month_df['percent_delayed'].str.rstrip('%').astype(float)\n",
        "\n",
        "#makes list of colors to differentiate minimum from the rest of the data\n",
        "colors = list(np.where(\n",
        "  month_df['percent_delayed'] == month_df['percent_delayed'].min(),\n",
        "  'red',\n",
        "  'blue'\n",
        "))\n",
        "\n",
        "delay_fig = px.bar(\n",
        "  month_df,\n",
        "  x = 'month',\n",
        "  y = 'percent_delayed',\n",
        "  labels = {'month': 'Month', 'percent_delayed': 'Percentage of Delayed Flights'},\n",
        "  title = 'Percentage of Delayed Flights by Month',\n",
        "  category_orders={'month': months}, #sorts chronologically\n",
        "  color = colors\n",
        ").update_layout(title_x = 0.5)\n",
        "\n",
        "delay_fig.show()"
      ],
      "id": "63eb50ff",
      "execution_count": null,
      "outputs": []
    },
    {
      "cell_type": "markdown",
      "metadata": {},
      "source": [
        "It appears that the fewest delays, as well as the lowest percentage of flights that are delayed, occur in September and November; thus the best months to fly to avoid delays are those. September has slightly more flights and slightly more delays, but a slightly lower proportion of delayed flights than November.\n",
        "\n",
        "## Question|Task 4\n",
        "\n",
        "__According to the BTS website, the “Weather” category only accounts for severe weather delays. Mild weather delays are not counted in the “Weather” category, but are actually included in both the “NAS” and “Late-Arriving Aircraft” categories. Your job is to create a new column that calculates the total number of flights delayed by weather (both severe and mild). You will need to replace all the missing values in the Late Aircraft variable with the mean. Show your work by printing the first 5 rows of data in a table. Use these three rules for your calculations:__\n",
        "\n",
        "__Use these three rules for your calculations:__\n",
        "\n",
        "- _100% of delayed flights in the Weather category are due to weather_\n",
        "- _30% of all delayed flights in the Late-Arriving category are due to weather._\n",
        "- _From April to August, 40% of delayed flights in the NAS category are due to weather. The rest of the months, the proportion rises to 65%._\n",
        "\n",
        "With the given rules, I made the appropriate calculations and created a new column. For these calculations, to handle NaN values, I decided to drop any values where there were NaN values for `month` to avoid biasing the data. The dataset is still sufficiently large without these rows. I replaced any NaN values for `num_of_delays_late_aircraft`.\n"
      ],
      "id": "b1ea0a1b"
    },
    {
      "cell_type": "code",
      "metadata": {},
      "source": [
        "'''Parameters:\n",
        "1 * 'num_of_delays_weather'\n",
        "0.3 * 'num_of_delays_late_aircraft'\n",
        "April to August, 0.4 * 'num_of_delays_nas'\n",
        "September to March, 0.65 * 'num_of_delays_nas'\n",
        "'''\n",
        "#check for nan values\n",
        "df[df['num_of_delays_late_aircraft'].isna()]\n",
        "\n",
        "#calculates mean\n",
        "mean = df['num_of_delays_late_aircraft'].mean()\n",
        "\n",
        "#replaces NaN values in 'num_of_delays_late_aircraft' with mean\n",
        "df['num_of_delays_late_aircraft'] = np.where(\n",
        "  df['num_of_delays_late_aircraft'].isna(),\n",
        "  mean,\n",
        "  df['num_of_delays_late_aircraft']\n",
        ")\n",
        "\n",
        "#check: successful\n",
        "df[df['num_of_delays_late_aircraft'].isna()]\n",
        "\n",
        "#empty\n",
        "df[df['num_of_delays_nas'].isna() & ~(df['num_of_delays_weather'] >= 0)]\n",
        "df[df['num_of_delays_weather'].isna() & ~(df['num_of_delays_weather'] >= 0)]\n",
        "\n",
        "#in order to work with the dataset, I need to change NaN values to 0, but I must avoid conflicts with values that are truly zero when trying to convert the data back to NaN. So I make and apply changes to a dummy df\n",
        "\n",
        "#drops columns with no data for month to avoid biasing the data\n",
        "dummy_df = df.copy().dropna(subset=['month'])\n",
        "\n",
        "#categories of months\n",
        "summermonths = ['April', 'May', 'June', 'July', 'August']\n",
        "wintermonths = ['January', 'February', 'March', 'September', 'October', 'November', 'December']\n",
        "\n",
        "# creates new column with given calculations\n",
        "df['total_weather_delays'] = dummy_df['num_of_delays_weather'] + \\\n",
        "  (0.3 * dummy_df['num_of_delays_late_aircraft'])  + \\\n",
        "    np.where(\n",
        "      dummy_df['month'].isin(summermonths), \n",
        "      dummy_df['num_of_delays_nas'] * 0.4, \n",
        "      dummy_df['num_of_delays_nas'] * 0.65\n",
        "      ) "
      ],
      "id": "456c4a55",
      "execution_count": null,
      "outputs": []
    },
    {
      "cell_type": "markdown",
      "metadata": {},
      "source": [
        "Here is an example of the new data for the new column, `total_weather_delays`."
      ],
      "id": "3b6b2927"
    },
    {
      "cell_type": "code",
      "metadata": {},
      "source": [
        "#displays new column\n",
        "df.filter(['total_weather_delays']).round(2).head(6)"
      ],
      "id": "eae0a56e",
      "execution_count": null,
      "outputs": []
    },
    {
      "cell_type": "markdown",
      "metadata": {},
      "source": [
        "## Question|Task 5\n",
        "\n",
        "__Using the new weather variable calculated above, create a barplot showing the proportion of all flights that are delayed by weather at each airport. Discuss what you learn from this graph.__\n",
        "\n",
        "### Step 1\n",
        "I grouped the sum of the values of `total_weather_delays` by each airport, then plotted them."
      ],
      "id": "f1910c73"
    },
    {
      "cell_type": "code",
      "metadata": {},
      "source": [
        "#sums total weather delays grouped by airport\n",
        "grouped_airport = df.groupby('airport_code')['total_weather_delays'].sum().reset_index().sort_values(['total_weather_delays'])\n",
        "\n",
        "#creates bar graph of the data\n",
        "fig = px.bar(\n",
        "  grouped_airport,\n",
        "  x = 'airport_code',\n",
        "  y = 'total_weather_delays',\n",
        "  labels = {'airport_code':'Airport Code', 'total_weather_delays':'Total Weather Delays'},\n",
        "  title = 'Total Weather Delays By Airport'\n",
        ").update_layout(\n",
        "  title_x = 0.5\n",
        ")\n",
        "\n",
        "fig.show()"
      ],
      "id": "8a2ac9ab",
      "execution_count": null,
      "outputs": []
    },
    {
      "cell_type": "markdown",
      "metadata": {},
      "source": [
        "### Analysis\n",
        "Based on this data, It appears that Atlanta and Chicago have the worst airport delays due to weather. I would speculate that of the list of airports present in the data, Atlanta deals with the most hurricanes. Chicago likely deals with a lot of blizzards. \n",
        "\n",
        "With more mild weather on average, it is not so surprising that San Diego and Dulles have the fewest weather delays. \n",
        "\n",
        "It surprised me that San Francisco experiences more weather delays than Denver. Without doing further research, it's difficult to understand why this is, but my guess is that Denver might be more prepared to handle weather delays than San Francisco. \n"
      ],
      "id": "b001d664"
    }
  ],
  "metadata": {
    "kernelspec": {
      "name": "python3",
      "language": "python",
      "display_name": "Python 3 (ipykernel)"
    }
  },
  "nbformat": 4,
  "nbformat_minor": 5
}